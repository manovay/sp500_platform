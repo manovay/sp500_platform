{
 "cells": [
  {
   "cell_type": "code",
   "execution_count": 1,
   "id": "ad957c13",
   "metadata": {},
   "outputs": [
    {
     "name": "stdout",
     "output_type": "stream",
     "text": [
      "Requirement already satisfied: FinGPT in c:\\users\\manov\\anaconda3\\envs\\sp500_llm_trader_env\\lib\\site-packages (0.0.1)\n",
      "Requirement already satisfied: sqlalchemy in c:\\users\\manov\\anaconda3\\envs\\sp500_llm_trader_env\\lib\\site-packages (2.0.41)\n",
      "Requirement already satisfied: psycopg2-binary in c:\\users\\manov\\anaconda3\\envs\\sp500_llm_trader_env\\lib\\site-packages (2.9.10)\n",
      "Requirement already satisfied: python-dotenv in c:\\users\\manov\\anaconda3\\envs\\sp500_llm_trader_env\\lib\\site-packages (1.1.0)\n",
      "Requirement already satisfied: jinja2 in c:\\users\\manov\\anaconda3\\envs\\sp500_llm_trader_env\\lib\\site-packages (3.1.6)\n",
      "Requirement already satisfied: datasets in c:\\users\\manov\\anaconda3\\envs\\sp500_llm_trader_env\\lib\\site-packages (3.6.0)\n",
      "Requirement already satisfied: peft in c:\\users\\manov\\anaconda3\\envs\\sp500_llm_trader_env\\lib\\site-packages (0.15.2)\n",
      "Requirement already satisfied: hf_xet in c:\\users\\manov\\anaconda3\\envs\\sp500_llm_trader_env\\lib\\site-packages (1.1.3)\n",
      "Requirement already satisfied: tqdm in c:\\users\\manov\\anaconda3\\envs\\sp500_llm_trader_env\\lib\\site-packages (4.67.1)\n",
      "Requirement already satisfied: numpy in c:\\users\\manov\\anaconda3\\envs\\sp500_llm_trader_env\\lib\\site-packages (from FinGPT) (2.2.6)\n",
      "Requirement already satisfied: pandas in c:\\users\\manov\\anaconda3\\envs\\sp500_llm_trader_env\\lib\\site-packages (from FinGPT) (2.3.0)\n",
      "Requirement already satisfied: setuptools>=41.4.0 in c:\\users\\manov\\anaconda3\\envs\\sp500_llm_trader_env\\lib\\site-packages (from FinGPT) (78.1.1)\n",
      "Requirement already satisfied: wheel>=0.33.6 in c:\\users\\manov\\anaconda3\\envs\\sp500_llm_trader_env\\lib\\site-packages (from FinGPT) (0.45.1)\n",
      "Requirement already satisfied: tushare in c:\\users\\manov\\anaconda3\\envs\\sp500_llm_trader_env\\lib\\site-packages (from FinGPT) (1.4.21)\n",
      "Requirement already satisfied: greenlet>=1 in c:\\users\\manov\\anaconda3\\envs\\sp500_llm_trader_env\\lib\\site-packages (from sqlalchemy) (3.2.3)\n",
      "Requirement already satisfied: typing-extensions>=4.6.0 in c:\\users\\manov\\anaconda3\\envs\\sp500_llm_trader_env\\lib\\site-packages (from sqlalchemy) (4.14.0)\n",
      "Requirement already satisfied: MarkupSafe>=2.0 in c:\\users\\manov\\anaconda3\\envs\\sp500_llm_trader_env\\lib\\site-packages (from jinja2) (3.0.2)\n",
      "Requirement already satisfied: filelock in c:\\users\\manov\\anaconda3\\envs\\sp500_llm_trader_env\\lib\\site-packages (from datasets) (3.18.0)\n",
      "Requirement already satisfied: pyarrow>=15.0.0 in c:\\users\\manov\\anaconda3\\envs\\sp500_llm_trader_env\\lib\\site-packages (from datasets) (20.0.0)\n",
      "Requirement already satisfied: dill<0.3.9,>=0.3.0 in c:\\users\\manov\\anaconda3\\envs\\sp500_llm_trader_env\\lib\\site-packages (from datasets) (0.3.8)\n",
      "Requirement already satisfied: requests>=2.32.2 in c:\\users\\manov\\anaconda3\\envs\\sp500_llm_trader_env\\lib\\site-packages (from datasets) (2.32.3)\n",
      "Requirement already satisfied: xxhash in c:\\users\\manov\\anaconda3\\envs\\sp500_llm_trader_env\\lib\\site-packages (from datasets) (3.5.0)\n",
      "Requirement already satisfied: multiprocess<0.70.17 in c:\\users\\manov\\anaconda3\\envs\\sp500_llm_trader_env\\lib\\site-packages (from datasets) (0.70.16)\n",
      "Requirement already satisfied: fsspec<=2025.3.0,>=2023.1.0 in c:\\users\\manov\\anaconda3\\envs\\sp500_llm_trader_env\\lib\\site-packages (from fsspec[http]<=2025.3.0,>=2023.1.0->datasets) (2025.3.0)\n",
      "Requirement already satisfied: huggingface-hub>=0.24.0 in c:\\users\\manov\\anaconda3\\envs\\sp500_llm_trader_env\\lib\\site-packages (from datasets) (0.32.4)\n",
      "Requirement already satisfied: packaging in c:\\users\\manov\\anaconda3\\envs\\sp500_llm_trader_env\\lib\\site-packages (from datasets) (25.0)\n",
      "Requirement already satisfied: pyyaml>=5.1 in c:\\users\\manov\\anaconda3\\envs\\sp500_llm_trader_env\\lib\\site-packages (from datasets) (6.0.2)\n",
      "Requirement already satisfied: aiohttp!=4.0.0a0,!=4.0.0a1 in c:\\users\\manov\\anaconda3\\envs\\sp500_llm_trader_env\\lib\\site-packages (from fsspec[http]<=2025.3.0,>=2023.1.0->datasets) (3.12.11)\n",
      "Requirement already satisfied: psutil in c:\\users\\manov\\anaconda3\\envs\\sp500_llm_trader_env\\lib\\site-packages (from peft) (7.0.0)\n",
      "Requirement already satisfied: torch>=1.13.0 in c:\\users\\manov\\anaconda3\\envs\\sp500_llm_trader_env\\lib\\site-packages (from peft) (2.7.1)\n",
      "Requirement already satisfied: transformers in c:\\users\\manov\\anaconda3\\envs\\sp500_llm_trader_env\\lib\\site-packages (from peft) (4.52.4)\n",
      "Requirement already satisfied: accelerate>=0.21.0 in c:\\users\\manov\\anaconda3\\envs\\sp500_llm_trader_env\\lib\\site-packages (from peft) (1.7.0)\n",
      "Requirement already satisfied: safetensors in c:\\users\\manov\\anaconda3\\envs\\sp500_llm_trader_env\\lib\\site-packages (from peft) (0.5.3)\n",
      "Requirement already satisfied: colorama in c:\\users\\manov\\anaconda3\\envs\\sp500_llm_trader_env\\lib\\site-packages (from tqdm) (0.4.6)\n",
      "Requirement already satisfied: aiohappyeyeballs>=2.5.0 in c:\\users\\manov\\anaconda3\\envs\\sp500_llm_trader_env\\lib\\site-packages (from aiohttp!=4.0.0a0,!=4.0.0a1->fsspec[http]<=2025.3.0,>=2023.1.0->datasets) (2.6.1)\n",
      "Requirement already satisfied: aiosignal>=1.1.2 in c:\\users\\manov\\anaconda3\\envs\\sp500_llm_trader_env\\lib\\site-packages (from aiohttp!=4.0.0a0,!=4.0.0a1->fsspec[http]<=2025.3.0,>=2023.1.0->datasets) (1.3.2)\n",
      "Requirement already satisfied: async-timeout<6.0,>=4.0 in c:\\users\\manov\\anaconda3\\envs\\sp500_llm_trader_env\\lib\\site-packages (from aiohttp!=4.0.0a0,!=4.0.0a1->fsspec[http]<=2025.3.0,>=2023.1.0->datasets) (5.0.1)\n",
      "Requirement already satisfied: attrs>=17.3.0 in c:\\users\\manov\\anaconda3\\envs\\sp500_llm_trader_env\\lib\\site-packages (from aiohttp!=4.0.0a0,!=4.0.0a1->fsspec[http]<=2025.3.0,>=2023.1.0->datasets) (25.3.0)\n",
      "Requirement already satisfied: frozenlist>=1.1.1 in c:\\users\\manov\\anaconda3\\envs\\sp500_llm_trader_env\\lib\\site-packages (from aiohttp!=4.0.0a0,!=4.0.0a1->fsspec[http]<=2025.3.0,>=2023.1.0->datasets) (1.6.2)\n",
      "Requirement already satisfied: multidict<7.0,>=4.5 in c:\\users\\manov\\anaconda3\\envs\\sp500_llm_trader_env\\lib\\site-packages (from aiohttp!=4.0.0a0,!=4.0.0a1->fsspec[http]<=2025.3.0,>=2023.1.0->datasets) (6.4.4)\n",
      "Requirement already satisfied: propcache>=0.2.0 in c:\\users\\manov\\anaconda3\\envs\\sp500_llm_trader_env\\lib\\site-packages (from aiohttp!=4.0.0a0,!=4.0.0a1->fsspec[http]<=2025.3.0,>=2023.1.0->datasets) (0.3.1)\n",
      "Requirement already satisfied: yarl<2.0,>=1.17.0 in c:\\users\\manov\\anaconda3\\envs\\sp500_llm_trader_env\\lib\\site-packages (from aiohttp!=4.0.0a0,!=4.0.0a1->fsspec[http]<=2025.3.0,>=2023.1.0->datasets) (1.20.0)\n",
      "Requirement already satisfied: idna>=2.0 in c:\\users\\manov\\anaconda3\\envs\\sp500_llm_trader_env\\lib\\site-packages (from yarl<2.0,>=1.17.0->aiohttp!=4.0.0a0,!=4.0.0a1->fsspec[http]<=2025.3.0,>=2023.1.0->datasets) (3.10)\n",
      "Requirement already satisfied: charset-normalizer<4,>=2 in c:\\users\\manov\\anaconda3\\envs\\sp500_llm_trader_env\\lib\\site-packages (from requests>=2.32.2->datasets) (3.4.2)\n",
      "Requirement already satisfied: urllib3<3,>=1.21.1 in c:\\users\\manov\\anaconda3\\envs\\sp500_llm_trader_env\\lib\\site-packages (from requests>=2.32.2->datasets) (2.4.0)\n",
      "Requirement already satisfied: certifi>=2017.4.17 in c:\\users\\manov\\anaconda3\\envs\\sp500_llm_trader_env\\lib\\site-packages (from requests>=2.32.2->datasets) (2025.4.26)\n",
      "Requirement already satisfied: sympy>=1.13.3 in c:\\users\\manov\\anaconda3\\envs\\sp500_llm_trader_env\\lib\\site-packages (from torch>=1.13.0->peft) (1.14.0)\n",
      "Requirement already satisfied: networkx in c:\\users\\manov\\anaconda3\\envs\\sp500_llm_trader_env\\lib\\site-packages (from torch>=1.13.0->peft) (3.4.2)\n",
      "Requirement already satisfied: mpmath<1.4,>=1.1.0 in c:\\users\\manov\\anaconda3\\envs\\sp500_llm_trader_env\\lib\\site-packages (from sympy>=1.13.3->torch>=1.13.0->peft) (1.3.0)\n",
      "Requirement already satisfied: python-dateutil>=2.8.2 in c:\\users\\manov\\anaconda3\\envs\\sp500_llm_trader_env\\lib\\site-packages (from pandas->FinGPT) (2.9.0.post0)\n",
      "Requirement already satisfied: pytz>=2020.1 in c:\\users\\manov\\anaconda3\\envs\\sp500_llm_trader_env\\lib\\site-packages (from pandas->FinGPT) (2025.2)\n",
      "Requirement already satisfied: tzdata>=2022.7 in c:\\users\\manov\\anaconda3\\envs\\sp500_llm_trader_env\\lib\\site-packages (from pandas->FinGPT) (2025.2)\n",
      "Requirement already satisfied: six>=1.5 in c:\\users\\manov\\anaconda3\\envs\\sp500_llm_trader_env\\lib\\site-packages (from python-dateutil>=2.8.2->pandas->FinGPT) (1.17.0)\n",
      "Requirement already satisfied: regex!=2019.12.17 in c:\\users\\manov\\anaconda3\\envs\\sp500_llm_trader_env\\lib\\site-packages (from transformers->peft) (2024.11.6)\n",
      "Requirement already satisfied: tokenizers<0.22,>=0.21 in c:\\users\\manov\\anaconda3\\envs\\sp500_llm_trader_env\\lib\\site-packages (from transformers->peft) (0.21.1)\n",
      "Requirement already satisfied: lxml in c:\\users\\manov\\anaconda3\\envs\\sp500_llm_trader_env\\lib\\site-packages (from tushare->FinGPT) (5.4.0)\n",
      "Requirement already satisfied: simplejson in c:\\users\\manov\\anaconda3\\envs\\sp500_llm_trader_env\\lib\\site-packages (from tushare->FinGPT) (3.20.1)\n",
      "Requirement already satisfied: bs4 in c:\\users\\manov\\anaconda3\\envs\\sp500_llm_trader_env\\lib\\site-packages (from tushare->FinGPT) (0.0.2)\n",
      "Requirement already satisfied: websocket-client>=0.57.0 in c:\\users\\manov\\anaconda3\\envs\\sp500_llm_trader_env\\lib\\site-packages (from tushare->FinGPT) (1.8.0)\n",
      "Requirement already satisfied: beautifulsoup4 in c:\\users\\manov\\anaconda3\\envs\\sp500_llm_trader_env\\lib\\site-packages (from bs4->tushare->FinGPT) (4.13.4)\n",
      "Requirement already satisfied: soupsieve>1.2 in c:\\users\\manov\\anaconda3\\envs\\sp500_llm_trader_env\\lib\\site-packages (from beautifulsoup4->bs4->tushare->FinGPT) (2.7)\n",
      "Note: you may need to restart the kernel to use updated packages.\n"
     ]
    }
   ],
   "source": [
    "# [Cell 1] — install required packages\n",
    "%pip install FinGPT sqlalchemy psycopg2-binary python-dotenv jinja2 datasets peft hf_xet tqdm\n"
   ]
  },
  {
   "cell_type": "code",
   "execution_count": 2,
   "id": "8cdab9b1",
   "metadata": {},
   "outputs": [
    {
     "name": "stdout",
     "output_type": "stream",
     "text": [
      "DB URL: True\n",
      "FMP API Key: True\n",
      "HF Token: True\n"
     ]
    }
   ],
   "source": [
    "# [Cell 1 continued] — load .env\n",
    "from dotenv import load_dotenv\n",
    "import os\n",
    "load_dotenv(override=True)\n",
    "\n",
    "# sanity check\n",
    "print(\"DB URL:\", bool(os.getenv(\"DATABASE_URL\")))\n",
    "print(\"FMP API Key:\", bool(os.getenv(\"FMP_API_KEY\")))\n",
    "print(\"HF Token:\",      bool(os.getenv(\"HF_TOKEN\")))\n"
   ]
  },
  {
   "cell_type": "code",
   "execution_count": null,
   "id": "b1b999a8",
   "metadata": {},
   "outputs": [
    {
     "name": "stderr",
     "output_type": "stream",
     "text": [
      "c:\\Users\\manov\\anaconda3\\envs\\sp500_llm_trader_env\\lib\\site-packages\\tqdm\\auto.py:21: TqdmWarning: IProgress not found. Please update jupyter and ipywidgets. See https://ipywidgets.readthedocs.io/en/stable/user_install.html\n",
      "  from .autonotebook import tqdm as notebook_tqdm\n",
      "Fetching 2 files:   0%|          | 0/2 [00:00<?, ?it/s]"
     ]
    }
   ],
   "source": [
    "# [Cell 2] — DB connection + load Llama-2 with FinGPT LoRA adapter\n",
    "\n",
    "import torch\n",
    "from sqlalchemy import create_engine, text\n",
    "from datasets import load_dataset\n",
    "from transformers import AutoTokenizer, AutoModelForCausalLM\n",
    "from peft import PeftModel\n",
    "import os\n",
    "\n",
    "# Database\n",
    "ENGINE = create_engine(os.getenv(\"DATABASE_URL\"))\n",
    "\n",
    "# Base Llama-2-7B chat model\n",
    "base_model = AutoModelForCausalLM.from_pretrained(\n",
    "    'meta-llama/Llama-2-7b-chat-hf',\n",
    "    trust_remote_code=True,\n",
    "    device_map=\"auto\",\n",
    "    torch_dtype=torch.float16,   # or 'auto' if you lack VRAM\n",
    ")\n",
    "\n",
    "# Tokenizer\n",
    "tokenizer = AutoTokenizer.from_pretrained('meta-llama/Llama-2-7b-chat-hf')\n",
    "\n",
    "# Load the FinGPT Forecaster LoRA weights\n",
    "model = PeftModel.from_pretrained(\n",
    "    base_model,\n",
    "    'FinGPT/fingpt-forecaster_dow30_llama2-7b_lora'\n",
    ")\n",
    "\n",
    "# Set to eval mode\n",
    "model = model.eval()\n",
    "\n",
    "print(\"✅ Base model + FinGPT Forecaster LoRA loaded!\")\n"
   ]
  },
  {
   "cell_type": "code",
   "execution_count": null,
   "id": "9a57962b",
   "metadata": {},
   "outputs": [],
   "source": []
  }
 ],
 "metadata": {
  "kernelspec": {
   "display_name": "sp500_llm_trader_env",
   "language": "python",
   "name": "python3"
  },
  "language_info": {
   "codemirror_mode": {
    "name": "ipython",
    "version": 3
   },
   "file_extension": ".py",
   "mimetype": "text/x-python",
   "name": "python",
   "nbconvert_exporter": "python",
   "pygments_lexer": "ipython3",
   "version": "3.10.18"
  }
 },
 "nbformat": 4,
 "nbformat_minor": 5
}
